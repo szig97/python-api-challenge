{
 "cells": [
  {
   "cell_type": "markdown",
   "metadata": {},
   "source": [
    "# WeatherPy\n",
    "----\n",
    "\n",
    "#### Note\n",
    "* Instructions have been included for each segment. You do not have to follow them exactly, but they are included to help you think through the steps."
   ]
  },
  {
   "cell_type": "code",
   "execution_count": 1,
   "metadata": {
    "scrolled": true
   },
   "outputs": [],
   "source": [
    "# Dependencies and Setup\n",
    "import matplotlib.pyplot as plt\n",
    "import pandas as pd\n",
    "import numpy as np\n",
    "import requests\n",
    "import time\n",
    "from scipy.stats import linregress\n",
    "\n",
    "# Import API key\n",
    "from config import weather_api_key\n",
    "\n",
    "# Incorporated citipy to determine city based on latitude and longitude\n",
    "from citipy import citipy\n",
    "\n",
    "# Output File (CSV)\n",
    "output_data_file = \"output_data/cities.csv\"\n",
    "\n",
    "# Range of latitudes and longitudes\n",
    "lat_range = (-90, 90)\n",
    "lng_range = (-180, 180)"
   ]
  },
  {
   "cell_type": "markdown",
   "metadata": {},
   "source": [
    "## Generate Cities List"
   ]
  },
  {
   "cell_type": "code",
   "execution_count": 2,
   "metadata": {},
   "outputs": [
    {
     "data": {
      "text/plain": [
       "587"
      ]
     },
     "execution_count": 2,
     "metadata": {},
     "output_type": "execute_result"
    }
   ],
   "source": [
    "# List for holding lat_lngs and cities\n",
    "lat_lngs = []\n",
    "cities = []\n",
    "\n",
    "# Create a set of random lat and lng combinations\n",
    "lats = np.random.uniform(lat_range[0], lat_range[1], size=1500)\n",
    "lngs = np.random.uniform(lng_range[0], lng_range[1], size=1500)\n",
    "lat_lngs = zip(lats, lngs)\n",
    "\n",
    "# Identify nearest city for each lat, lng combination\n",
    "for lat_lng in lat_lngs:\n",
    "    city = citipy.nearest_city(lat_lng[0], lat_lng[1]).city_name\n",
    "    \n",
    "    # If the city is unique, then add it to a our cities list\n",
    "    if city not in cities:\n",
    "        cities.append(city)\n",
    "\n",
    "# Print the city count to confirm sufficient count\n",
    "len(cities)"
   ]
  },
  {
   "cell_type": "markdown",
   "metadata": {},
   "source": [
    "### Perform API Calls\n",
    "* Perform a weather check on each city using a series of successive API calls.\n",
    "* Include a print log of each city as it'sbeing processed (with the city number and city name).\n"
   ]
  },
  {
   "cell_type": "code",
   "execution_count": 3,
   "metadata": {},
   "outputs": [],
   "source": [
    "#Setup query url\n",
    "url = \"http://api.openweathermap.org/data/2.5/weather?\"\n",
    "units =\"imperial\"\n",
    "query_url = f\"{url}appid={weather_api_key}&units={units}&q=\""
   ]
  },
  {
   "cell_type": "code",
   "execution_count": 4,
   "metadata": {
    "scrolled": true
   },
   "outputs": [
    {
     "name": "stdout",
     "output_type": "stream",
     "text": [
      "Processing Record 1 of Set 1 | avarua\n",
      "Processing Record 2 of Set 1 | faanui\n",
      "Processing Record 3 of Set 1 | qaanaaq\n",
      "Processing Record 4 of Set 1 | aswan\n",
      "Processing Record 5 of Set 1 | poum\n",
      "Processing Record 6 of Set 1 | alta floresta\n",
      "Processing Record 7 of Set 1 | nome\n",
      "Processing Record 8 of Set 1 | vaini\n",
      "Processing Record 9 of Set 1 | sinnamary\n",
      "Processing Record 10 of Set 1 | srednekolymsk\n",
      "Processing Record 11 of Set 1 | tadine\n",
      "Processing Record 12 of Set 1 | busselton\n",
      "Processing Record 13 of Set 1 | vostok\n",
      "Processing Record 14 of Set 1 | gogrial\n",
      "City not found. Skipping...\n",
      "Processing Record 15 of Set 1 | arraial do cabo\n",
      "Processing Record 16 of Set 1 | rantauprapat\n",
      "Processing Record 17 of Set 1 | druzhba\n",
      "Processing Record 18 of Set 1 | port said\n",
      "Processing Record 19 of Set 1 | butaritari\n",
      "Processing Record 20 of Set 1 | hermanus\n",
      "Processing Record 21 of Set 1 | castro\n",
      "Processing Record 22 of Set 1 | vila velha\n",
      "Processing Record 23 of Set 1 | jijiga\n",
      "Processing Record 24 of Set 1 | punta arenas\n",
      "Processing Record 25 of Set 1 | pisco\n",
      "Processing Record 26 of Set 1 | atuona\n",
      "Processing Record 27 of Set 1 | kodiak\n",
      "Processing Record 28 of Set 1 | bahir dar\n",
      "Processing Record 29 of Set 1 | mataura\n",
      "Processing Record 30 of Set 1 | tasiilaq\n",
      "Processing Record 31 of Set 1 | luderitz\n",
      "Processing Record 32 of Set 1 | cidreira\n",
      "Processing Record 33 of Set 1 | ushuaia\n",
      "Processing Record 34 of Set 1 | esperance\n",
      "Processing Record 35 of Set 1 | dunedin\n",
      "Processing Record 36 of Set 1 | bengkulu\n",
      "Processing Record 37 of Set 1 | victoria\n",
      "Processing Record 38 of Set 1 | alekseyevka\n",
      "Processing Record 39 of Set 1 | tuktoyaktuk\n",
      "Processing Record 40 of Set 1 | albany\n",
      "City not found. Skipping...\n",
      "Processing Record 41 of Set 1 | zhigansk\n",
      "Processing Record 42 of Set 1 | saint-philippe\n",
      "Processing Record 43 of Set 1 | sibolga\n",
      "Processing Record 44 of Set 1 | hobart\n",
      "Processing Record 45 of Set 1 | jiazi\n",
      "Processing Record 46 of Set 1 | salaga\n",
      "Processing Record 47 of Set 1 | bredasdorp\n",
      "Processing Record 48 of Set 1 | hithadhoo\n",
      "Processing Record 49 of Set 1 | milton\n",
      "Processing Record 1 of Set 2 | saint anthony\n",
      "Processing Record 2 of Set 2 | nikolskoye\n",
      "Processing Record 3 of Set 2 | kapaa\n",
      "Processing Record 4 of Set 2 | rikitea\n",
      "Processing Record 5 of Set 2 | port alfred\n",
      "Processing Record 6 of Set 2 | touros\n",
      "Processing Record 7 of Set 2 | tiksi\n",
      "Processing Record 8 of Set 2 | new norfolk\n",
      "City not found. Skipping...\n",
      "Processing Record 9 of Set 2 | praia\n",
      "Processing Record 10 of Set 2 | khatanga\n",
      "Processing Record 11 of Set 2 | aldan\n",
      "Processing Record 12 of Set 2 | salalah\n",
      "Processing Record 13 of Set 2 | namibe\n",
      "Processing Record 14 of Set 2 | alofi\n",
      "Processing Record 15 of Set 2 | awjilah\n",
      "Processing Record 16 of Set 2 | bluff\n",
      "Processing Record 17 of Set 2 | ilulissat\n",
      "Processing Record 18 of Set 2 | gizo\n",
      "Processing Record 19 of Set 2 | padang\n",
      "Processing Record 20 of Set 2 | vila franca do campo\n",
      "Processing Record 21 of Set 2 | barrow\n",
      "Processing Record 22 of Set 2 | namatanai\n",
      "Processing Record 23 of Set 2 | kota belud\n",
      "Processing Record 24 of Set 2 | hasaki\n",
      "Processing Record 25 of Set 2 | codrington\n",
      "Processing Record 26 of Set 2 | creston\n",
      "Processing Record 27 of Set 2 | maine-soroa\n",
      "Processing Record 28 of Set 2 | narsaq\n",
      "Processing Record 29 of Set 2 | east london\n",
      "Processing Record 30 of Set 2 | vermillion\n",
      "Processing Record 31 of Set 2 | prainha\n",
      "Processing Record 32 of Set 2 | sao joao da barra\n",
      "Processing Record 33 of Set 2 | aykhal\n",
      "Processing Record 34 of Set 2 | broken hill\n",
      "Processing Record 35 of Set 2 | saskylakh\n",
      "Processing Record 36 of Set 2 | kaitangata\n",
      "Processing Record 37 of Set 2 | lebu\n",
      "Processing Record 38 of Set 2 | angoche\n",
      "Processing Record 39 of Set 2 | lompoc\n",
      "Processing Record 40 of Set 2 | antalaha\n",
      "Processing Record 41 of Set 2 | kitimat\n",
      "Processing Record 42 of Set 2 | twin falls\n",
      "Processing Record 43 of Set 2 | torbat-e jam\n",
      "Processing Record 44 of Set 2 | los llanos de aridane\n",
      "Processing Record 45 of Set 2 | iqaluit\n",
      "Processing Record 46 of Set 2 | eureka\n",
      "Processing Record 47 of Set 2 | yulara\n",
      "Processing Record 48 of Set 2 | norman wells\n",
      "Processing Record 49 of Set 2 | rodos\n",
      "Processing Record 1 of Set 3 | caravelas\n",
      "Processing Record 2 of Set 3 | buala\n",
      "Processing Record 3 of Set 3 | cape town\n",
      "Processing Record 4 of Set 3 | airai\n",
      "City not found. Skipping...\n",
      "Processing Record 5 of Set 3 | carnarvon\n",
      "Processing Record 6 of Set 3 | guarapari\n",
      "Processing Record 7 of Set 3 | thaton\n",
      "Processing Record 8 of Set 3 | sovetskiy\n",
      "Processing Record 9 of Set 3 | teacapan\n",
      "Processing Record 10 of Set 3 | geraldton\n",
      "Processing Record 11 of Set 3 | tiznit\n",
      "Processing Record 12 of Set 3 | kroya\n",
      "Processing Record 13 of Set 3 | maroua\n",
      "Processing Record 14 of Set 3 | souillac\n",
      "Processing Record 15 of Set 3 | gusau\n",
      "Processing Record 16 of Set 3 | lancaster\n",
      "Processing Record 17 of Set 3 | togur\n",
      "Processing Record 18 of Set 3 | ribeira grande\n",
      "Processing Record 19 of Set 3 | tanabi\n",
      "Processing Record 20 of Set 3 | chuy\n",
      "City not found. Skipping...\n",
      "Processing Record 21 of Set 3 | jamestown\n",
      "Processing Record 22 of Set 3 | manoel urbano\n",
      "Processing Record 23 of Set 3 | piacabucu\n",
      "Processing Record 24 of Set 3 | hilo\n",
      "Processing Record 25 of Set 3 | imeni stepana razina\n",
      "Processing Record 26 of Set 3 | bria\n",
      "Processing Record 27 of Set 3 | puerto ayora\n",
      "City not found. Skipping...\n",
      "Processing Record 28 of Set 3 | port-gentil\n",
      "Processing Record 29 of Set 3 | yellowknife\n",
      "City not found. Skipping...\n",
      "Processing Record 30 of Set 3 | vrangel\n",
      "Processing Record 31 of Set 3 | itarema\n",
      "Processing Record 32 of Set 3 | ponta do sol\n",
      "City not found. Skipping...\n",
      "Processing Record 33 of Set 3 | ayia galini\n",
      "Processing Record 34 of Set 3 | vondrozo\n",
      "Processing Record 35 of Set 3 | mandan\n",
      "City not found. Skipping...\n",
      "Processing Record 36 of Set 3 | severo-kurilsk\n",
      "Processing Record 37 of Set 3 | bundaberg\n",
      "Processing Record 38 of Set 3 | thompson\n",
      "Processing Record 39 of Set 3 | goundam\n",
      "Processing Record 40 of Set 3 | leningradskiy\n",
      "Processing Record 41 of Set 3 | longyearbyen\n",
      "Processing Record 42 of Set 3 | dikson\n",
      "City not found. Skipping...\n",
      "Processing Record 43 of Set 3 | chokurdakh\n",
      "City not found. Skipping...\n",
      "Processing Record 44 of Set 3 | shelburne\n",
      "Processing Record 45 of Set 3 | katsuura\n",
      "Processing Record 46 of Set 3 | ovsyanka\n",
      "Processing Record 47 of Set 3 | zatoka\n",
      "Processing Record 48 of Set 3 | fare\n",
      "City not found. Skipping...\n",
      "Processing Record 49 of Set 3 | nishihara\n",
      "Processing Record 1 of Set 4 | lagoa\n",
      "Processing Record 2 of Set 4 | luanda\n",
      "Processing Record 3 of Set 4 | turukhansk\n",
      "Processing Record 4 of Set 4 | provideniya\n",
      "Processing Record 5 of Set 4 | clyde river\n",
      "Processing Record 6 of Set 4 | okahandja\n",
      "Processing Record 7 of Set 4 | ulladulla\n",
      "Processing Record 8 of Set 4 | isangel\n",
      "Processing Record 9 of Set 4 | male\n",
      "Processing Record 10 of Set 4 | wenceslau braz\n",
      "Processing Record 11 of Set 4 | yerbogachen\n",
      "Processing Record 12 of Set 4 | gat\n",
      "Processing Record 13 of Set 4 | fiche\n",
      "City not found. Skipping...\n",
      "Processing Record 14 of Set 4 | vilyuysk\n",
      "Processing Record 15 of Set 4 | octeville\n",
      "Processing Record 16 of Set 4 | faya\n",
      "Processing Record 17 of Set 4 | moose factory\n",
      "Processing Record 18 of Set 4 | kosh-agach\n",
      "Processing Record 19 of Set 4 | port elizabeth\n",
      "Processing Record 20 of Set 4 | uige\n",
      "Processing Record 21 of Set 4 | sosua\n",
      "Processing Record 22 of Set 4 | nanortalik\n",
      "Processing Record 23 of Set 4 | rota\n",
      "Processing Record 24 of Set 4 | ust-maya\n",
      "Processing Record 25 of Set 4 | sambava\n",
      "Processing Record 26 of Set 4 | kundian\n",
      "City not found. Skipping...\n",
      "Processing Record 27 of Set 4 | port blair\n",
      "Processing Record 28 of Set 4 | noratus\n",
      "Processing Record 29 of Set 4 | nyurba\n",
      "Processing Record 30 of Set 4 | jalu\n",
      "Processing Record 31 of Set 4 | fengrun\n",
      "Processing Record 32 of Set 4 | sobolevo\n",
      "Processing Record 33 of Set 4 | nalut\n",
      "Processing Record 34 of Set 4 | humberto de campos\n",
      "City not found. Skipping...\n",
      "Processing Record 35 of Set 4 | alibag\n",
      "City not found. Skipping...\n",
      "Processing Record 36 of Set 4 | moshkovo\n",
      "Processing Record 37 of Set 4 | san cristobal\n",
      "Processing Record 38 of Set 4 | abha\n",
      "Processing Record 39 of Set 4 | praia da vitoria\n",
      "City not found. Skipping...\n",
      "Processing Record 40 of Set 4 | yenagoa\n",
      "Processing Record 41 of Set 4 | charters towers\n"
     ]
    },
    {
     "name": "stdout",
     "output_type": "stream",
     "text": [
      "City not found. Skipping...\n",
      "Processing Record 42 of Set 4 | korcula\n",
      "Processing Record 43 of Set 4 | bambanglipuro\n",
      "Processing Record 44 of Set 4 | viedma\n",
      "Processing Record 45 of Set 4 | cururupu\n",
      "Processing Record 46 of Set 4 | bayji\n",
      "Processing Record 47 of Set 4 | dangriga\n",
      "Processing Record 48 of Set 4 | coroneo\n",
      "Processing Record 49 of Set 4 | hami\n",
      "Processing Record 1 of Set 5 | rorvik\n",
      "Processing Record 2 of Set 5 | cherskiy\n",
      "Processing Record 3 of Set 5 | tsiroanomandidy\n",
      "Processing Record 4 of Set 5 | chernyshevskiy\n",
      "Processing Record 5 of Set 5 | dongzhen\n",
      "Processing Record 6 of Set 5 | dawei\n",
      "Processing Record 7 of Set 5 | coihaique\n",
      "Processing Record 8 of Set 5 | muriwai beach\n",
      "Processing Record 9 of Set 5 | upernavik\n",
      "Processing Record 10 of Set 5 | auki\n",
      "Processing Record 11 of Set 5 | bow island\n",
      "Processing Record 12 of Set 5 | verkhnyaya khava\n",
      "Processing Record 13 of Set 5 | kralendijk\n",
      "Processing Record 14 of Set 5 | sakakah\n",
      "Processing Record 15 of Set 5 | tuatapere\n",
      "Processing Record 16 of Set 5 | constitucion\n",
      "Processing Record 17 of Set 5 | georgetown\n",
      "Processing Record 18 of Set 5 | cockburn town\n",
      "City not found. Skipping...\n",
      "Processing Record 19 of Set 5 | abbeville\n",
      "Processing Record 20 of Set 5 | san patricio\n",
      "Processing Record 21 of Set 5 | fushan\n",
      "Processing Record 22 of Set 5 | vikhorevka\n",
      "Processing Record 23 of Set 5 | shingu\n",
      "Processing Record 24 of Set 5 | shenjiamen\n",
      "Processing Record 25 of Set 5 | sept-iles\n",
      "Processing Record 26 of Set 5 | dawlatabad\n",
      "Processing Record 27 of Set 5 | neftcala\n",
      "Processing Record 28 of Set 5 | roma\n",
      "Processing Record 29 of Set 5 | port lincoln\n",
      "Processing Record 30 of Set 5 | saint george\n",
      "Processing Record 31 of Set 5 | oudtshoorn\n",
      "Processing Record 32 of Set 5 | kununurra\n",
      "Processing Record 33 of Set 5 | broome\n",
      "Processing Record 34 of Set 5 | port-cartier\n",
      "Processing Record 35 of Set 5 | zhangye\n",
      "Processing Record 36 of Set 5 | jabinyanah\n",
      "Processing Record 37 of Set 5 | grafenhainichen\n",
      "Processing Record 38 of Set 5 | benjamin aceval\n",
      "Processing Record 39 of Set 5 | kahului\n",
      "Processing Record 40 of Set 5 | juegang\n",
      "Processing Record 41 of Set 5 | sairang\n",
      "Processing Record 42 of Set 5 | grindavik\n",
      "Processing Record 43 of Set 5 | sochi\n",
      "Processing Record 44 of Set 5 | andilamena\n",
      "Processing Record 45 of Set 5 | bulgan\n",
      "Processing Record 46 of Set 5 | bloemfontein\n",
      "Processing Record 47 of Set 5 | glenwood springs\n",
      "Processing Record 48 of Set 5 | carutapera\n",
      "Processing Record 49 of Set 5 | conceicao da barra\n",
      "City not found. Skipping...\n",
      "Processing Record 1 of Set 6 | davila\n",
      "Processing Record 2 of Set 6 | kostalexis\n",
      "Processing Record 3 of Set 6 | tucuman\n",
      "Processing Record 4 of Set 6 | cayenne\n",
      "Processing Record 5 of Set 6 | idrinskoye\n",
      "Processing Record 6 of Set 6 | the valley\n",
      "Processing Record 7 of Set 6 | richards bay\n",
      "Processing Record 8 of Set 6 | northam\n",
      "Processing Record 9 of Set 6 | torit\n",
      "Processing Record 10 of Set 6 | puerto ayacucho\n",
      "Processing Record 11 of Set 6 | vagur\n",
      "Processing Record 12 of Set 6 | beterou\n",
      "Processing Record 13 of Set 6 | golfito\n",
      "Processing Record 14 of Set 6 | pangkalanbuun\n",
      "Processing Record 15 of Set 6 | kalulushi\n",
      "Processing Record 16 of Set 6 | porto novo\n",
      "Processing Record 17 of Set 6 | ixtapa\n",
      "Processing Record 18 of Set 6 | batagay-alyta\n",
      "Processing Record 19 of Set 6 | riyadh\n",
      "Processing Record 20 of Set 6 | kuah\n",
      "Processing Record 21 of Set 6 | guerrero negro\n",
      "Processing Record 22 of Set 6 | aksarka\n",
      "Processing Record 23 of Set 6 | chorley\n",
      "Processing Record 24 of Set 6 | kieta\n",
      "Processing Record 25 of Set 6 | fukue\n",
      "City not found. Skipping...\n",
      "Processing Record 26 of Set 6 | saint-pierre\n",
      "Processing Record 27 of Set 6 | abatskoye\n",
      "Processing Record 28 of Set 6 | candido mendes\n",
      "Processing Record 29 of Set 6 | verkhnyaya inta\n",
      "Processing Record 30 of Set 6 | killybegs\n",
      "Processing Record 31 of Set 6 | blytheville\n",
      "Processing Record 32 of Set 6 | lac du bonnet\n",
      "Processing Record 33 of Set 6 | benguela\n",
      "Processing Record 34 of Set 6 | morondava\n",
      "Processing Record 35 of Set 6 | nemuro\n",
      "Processing Record 36 of Set 6 | lerwick\n",
      "Processing Record 37 of Set 6 | deer lake\n",
      "Processing Record 38 of Set 6 | raga\n",
      "Processing Record 39 of Set 6 | grass valley\n",
      "Processing Record 40 of Set 6 | bethel\n",
      "Processing Record 41 of Set 6 | tual\n",
      "Processing Record 42 of Set 6 | te anau\n",
      "Processing Record 43 of Set 6 | palpa\n",
      "Processing Record 44 of Set 6 | lokoja\n",
      "Processing Record 45 of Set 6 | egtved\n",
      "Processing Record 46 of Set 6 | kutum\n",
      "City not found. Skipping...\n",
      "Processing Record 47 of Set 6 | barra do garcas\n",
      "Processing Record 48 of Set 6 | vestmannaeyjar\n",
      "Processing Record 49 of Set 6 | fairbanks\n",
      "Processing Record 1 of Set 7 | tripoli\n",
      "City not found. Skipping...\n",
      "Processing Record 2 of Set 7 | mar del plata\n",
      "Processing Record 3 of Set 7 | kirriemuir\n",
      "Processing Record 4 of Set 7 | binga\n",
      "Processing Record 5 of Set 7 | makakilo city\n",
      "Processing Record 6 of Set 7 | bandar-e anzali\n",
      "Processing Record 7 of Set 7 | saldanha\n",
      "Processing Record 8 of Set 7 | bambous virieux\n",
      "Processing Record 9 of Set 7 | sao filipe\n",
      "Processing Record 10 of Set 7 | kruisfontein\n",
      "Processing Record 11 of Set 7 | harstad\n",
      "Processing Record 12 of Set 7 | thinadhoo\n",
      "Processing Record 13 of Set 7 | moche\n",
      "Processing Record 14 of Set 7 | zlotow\n",
      "City not found. Skipping...\n",
      "Processing Record 15 of Set 7 | acarau\n",
      "Processing Record 16 of Set 7 | rialma\n",
      "Processing Record 17 of Set 7 | vao\n",
      "Processing Record 18 of Set 7 | pevek\n",
      "Processing Record 19 of Set 7 | bilibino\n",
      "Processing Record 20 of Set 7 | letpadan\n",
      "Processing Record 21 of Set 7 | bourg-en-bresse\n",
      "Processing Record 22 of Set 7 | energetik\n",
      "City not found. Skipping...\n",
      "City not found. Skipping...\n",
      "Processing Record 23 of Set 7 | koslan\n",
      "Processing Record 24 of Set 7 | sitka\n",
      "Processing Record 25 of Set 7 | louis trichardt\n",
      "Processing Record 26 of Set 7 | catamarca\n",
      "Processing Record 27 of Set 7 | porto empedocle\n",
      "Processing Record 28 of Set 7 | dhone\n",
      "Processing Record 29 of Set 7 | rio negrinho\n",
      "Processing Record 30 of Set 7 | garowe\n",
      "Processing Record 31 of Set 7 | ranir bazar\n",
      "Processing Record 32 of Set 7 | polewali\n",
      "City not found. Skipping...\n",
      "City not found. Skipping...\n",
      "Processing Record 33 of Set 7 | tevaitoa\n",
      "Processing Record 34 of Set 7 | bonthe\n",
      "Processing Record 35 of Set 7 | buin\n",
      "City not found. Skipping...\n",
      "Processing Record 36 of Set 7 | toccoa\n",
      "Processing Record 37 of Set 7 | college\n",
      "Processing Record 38 of Set 7 | bahia blanca\n",
      "Processing Record 39 of Set 7 | port hedland\n",
      "Processing Record 40 of Set 7 | vilhena\n",
      "Processing Record 41 of Set 7 | lawton\n",
      "Processing Record 42 of Set 7 | marsh harbour\n",
      "Processing Record 43 of Set 7 | cabo san lucas\n",
      "Processing Record 44 of Set 7 | tuy hoa\n",
      "Processing Record 45 of Set 7 | khandyga\n",
      "Processing Record 46 of Set 7 | kavieng\n",
      "Processing Record 47 of Set 7 | joshimath\n",
      "Processing Record 48 of Set 7 | la crosse\n",
      "Processing Record 49 of Set 7 | pandan\n",
      "City not found. Skipping...\n",
      "Processing Record 1 of Set 8 | roald\n",
      "City not found. Skipping...\n",
      "Processing Record 2 of Set 8 | yerofey pavlovich\n",
      "Processing Record 3 of Set 8 | verkhoyansk\n",
      "Processing Record 4 of Set 8 | hamilton\n",
      "City not found. Skipping...\n",
      "Processing Record 5 of Set 8 | roebourne\n",
      "Processing Record 6 of Set 8 | raudeberg\n",
      "City not found. Skipping...\n",
      "Processing Record 7 of Set 8 | znamenskoye\n",
      "Processing Record 8 of Set 8 | ichinohe\n",
      "Processing Record 9 of Set 8 | aripuana\n",
      "Processing Record 10 of Set 8 | aklavik\n",
      "Processing Record 11 of Set 8 | dapitan\n",
      "Processing Record 12 of Set 8 | cranbrook\n",
      "Processing Record 13 of Set 8 | phangnga\n",
      "Processing Record 14 of Set 8 | lensk\n",
      "Processing Record 15 of Set 8 | merauke\n",
      "City not found. Skipping...\n",
      "Processing Record 16 of Set 8 | coquimbo\n",
      "Processing Record 17 of Set 8 | boueni\n",
      "Processing Record 18 of Set 8 | sorland\n",
      "City not found. Skipping...\n",
      "Processing Record 19 of Set 8 | kurilsk\n",
      "Processing Record 20 of Set 8 | erdotelek\n",
      "Processing Record 21 of Set 8 | buchanan\n",
      "Processing Record 22 of Set 8 | mengcheng\n",
      "Processing Record 23 of Set 8 | banepa\n",
      "Processing Record 24 of Set 8 | tromso\n",
      "Processing Record 25 of Set 8 | inhambane\n",
      "Processing Record 26 of Set 8 | meulaboh\n",
      "Processing Record 27 of Set 8 | biaora\n",
      "Processing Record 28 of Set 8 | lima\n",
      "Processing Record 29 of Set 8 | kualakapuas\n",
      "Processing Record 30 of Set 8 | kaabong\n",
      "Processing Record 31 of Set 8 | sulina\n"
     ]
    },
    {
     "name": "stdout",
     "output_type": "stream",
     "text": [
      "Processing Record 32 of Set 8 | acajutla\n",
      "Processing Record 33 of Set 8 | mana\n",
      "Processing Record 34 of Set 8 | pravdinsk\n",
      "Processing Record 35 of Set 8 | san quintin\n",
      "Processing Record 36 of Set 8 | praya\n",
      "Processing Record 37 of Set 8 | linqiong\n",
      "Processing Record 38 of Set 8 | jacala\n",
      "Processing Record 39 of Set 8 | kumba\n",
      "Processing Record 40 of Set 8 | huron\n",
      "Processing Record 41 of Set 8 | samarai\n",
      "City not found. Skipping...\n",
      "Processing Record 42 of Set 8 | artemisa\n",
      "Processing Record 43 of Set 8 | beloha\n",
      "Processing Record 44 of Set 8 | troitsk\n",
      "Processing Record 45 of Set 8 | belaya gora\n",
      "Processing Record 46 of Set 8 | kismayo\n",
      "Processing Record 47 of Set 8 | aleksandrov gay\n",
      "Processing Record 48 of Set 8 | along\n",
      "Processing Record 49 of Set 8 | yaring\n",
      "Processing Record 1 of Set 9 | lynchburg\n",
      "Processing Record 2 of Set 9 | oksfjord\n",
      "Processing Record 3 of Set 9 | horasan\n",
      "Processing Record 4 of Set 9 | norrtalje\n",
      "Processing Record 5 of Set 9 | lokomotivnyy\n",
      "City not found. Skipping...\n",
      "Processing Record 6 of Set 9 | bosobolo\n",
      "Processing Record 7 of Set 9 | fortuna\n",
      "Processing Record 8 of Set 9 | shimoda\n",
      "Processing Record 9 of Set 9 | mahebourg\n",
      "Processing Record 10 of Set 9 | valparaiso\n",
      "Processing Record 11 of Set 9 | tukrah\n",
      "City not found. Skipping...\n",
      "Processing Record 12 of Set 9 | caramay\n",
      "Processing Record 13 of Set 9 | sandpoint\n",
      "Processing Record 14 of Set 9 | haicheng\n",
      "Processing Record 15 of Set 9 | hun\n",
      "Processing Record 16 of Set 9 | morros\n",
      "Processing Record 17 of Set 9 | shahr-e babak\n",
      "Processing Record 18 of Set 9 | bakchar\n",
      "Processing Record 19 of Set 9 | gien\n",
      "Processing Record 20 of Set 9 | dabhol\n",
      "Processing Record 21 of Set 9 | boa vista\n",
      "Processing Record 22 of Set 9 | san javier\n",
      "Processing Record 23 of Set 9 | vardo\n",
      "Processing Record 24 of Set 9 | paragominas\n",
      "Processing Record 25 of Set 9 | kathu\n",
      "Processing Record 26 of Set 9 | marsaxlokk\n",
      "Processing Record 27 of Set 9 | westport\n",
      "Processing Record 28 of Set 9 | torbay\n",
      "Processing Record 29 of Set 9 | kortkeros\n",
      "Processing Record 30 of Set 9 | hinesville\n",
      "City not found. Skipping...\n",
      "Processing Record 31 of Set 9 | alyangula\n",
      "Processing Record 32 of Set 9 | quatre cocos\n",
      "Processing Record 33 of Set 9 | pizhma\n",
      "Processing Record 34 of Set 9 | vieste\n",
      "City not found. Skipping...\n",
      "Processing Record 35 of Set 9 | salamiyah\n",
      "Processing Record 36 of Set 9 | muzhi\n",
      "Processing Record 37 of Set 9 | saint-georges\n",
      "City not found. Skipping...\n",
      "Processing Record 38 of Set 9 | kosa\n",
      "Processing Record 39 of Set 9 | uyemskiy\n",
      "Processing Record 40 of Set 9 | benidorm\n",
      "Processing Record 41 of Set 9 | iquique\n",
      "Processing Record 42 of Set 9 | waddan\n",
      "Processing Record 43 of Set 9 | karup\n",
      "Processing Record 44 of Set 9 | cassilandia\n",
      "Processing Record 45 of Set 9 | paamiut\n",
      "Processing Record 46 of Set 9 | dingle\n",
      "Processing Record 47 of Set 9 | kamaishi\n",
      "Processing Record 48 of Set 9 | srandakan\n",
      "Processing Record 49 of Set 9 | tara\n",
      "Processing Record 1 of Set 10 | laureles\n",
      "Processing Record 2 of Set 10 | chapais\n",
      "Processing Record 3 of Set 10 | pucallpa\n",
      "Processing Record 4 of Set 10 | russell\n",
      "Processing Record 5 of Set 10 | yatou\n",
      "Processing Record 6 of Set 10 | matara\n",
      "Processing Record 7 of Set 10 | novikovo\n",
      "Processing Record 8 of Set 10 | uhlove\n",
      "Processing Record 9 of Set 10 | dourbali\n",
      "Processing Record 10 of Set 10 | yarada\n",
      "Processing Record 11 of Set 10 | mitu\n",
      "Processing Record 12 of Set 10 | cap malheureux\n",
      "Processing Record 13 of Set 10 | aquiraz\n",
      "Processing Record 14 of Set 10 | rawson\n",
      "Processing Record 15 of Set 10 | hastings\n",
      "Processing Record 16 of Set 10 | komsomolskiy\n",
      "Processing Record 17 of Set 10 | outjo\n",
      "Processing Record 18 of Set 10 | senneterre\n",
      "Processing Record 19 of Set 10 | menongue\n",
      "Processing Record 20 of Set 10 | hovd\n",
      "Processing Record 21 of Set 10 | lae\n",
      "Processing Record 22 of Set 10 | radaur\n",
      "Processing Record 23 of Set 10 | ylojarvi\n",
      "Processing Record 24 of Set 10 | liepaja\n",
      "Processing Record 25 of Set 10 | isiro\n",
      "Processing Record 26 of Set 10 | srivardhan\n",
      "Processing Record 27 of Set 10 | gandajika\n",
      "Processing Record 28 of Set 10 | villamontes\n",
      "Processing Record 29 of Set 10 | sola\n",
      "Processing Record 30 of Set 10 | kardasova recice\n",
      "Processing Record 31 of Set 10 | saurimo\n",
      "Processing Record 32 of Set 10 | moussoro\n",
      "Processing Record 33 of Set 10 | partizanske\n",
      "Processing Record 34 of Set 10 | vesyegonsk\n",
      "Processing Record 35 of Set 10 | seoul\n",
      "Processing Record 36 of Set 10 | axim\n",
      "Processing Record 37 of Set 10 | wanxian\n",
      "Processing Record 38 of Set 10 | bonavista\n",
      "City not found. Skipping...\n",
      "Processing Record 39 of Set 10 | romitan\n",
      "Processing Record 40 of Set 10 | atbasar\n",
      "Processing Record 41 of Set 10 | grand gaube\n",
      "Processing Record 42 of Set 10 | mezen\n",
      "Processing Record 43 of Set 10 | buraydah\n",
      "Processing Record 44 of Set 10 | osakarovka\n",
      "Processing Record 45 of Set 10 | porbandar\n",
      "City not found. Skipping...\n",
      "Processing Record 46 of Set 10 | pimentel\n",
      "Processing Record 47 of Set 10 | mocuba\n",
      "Processing Record 48 of Set 10 | olafsvik\n",
      "Processing Record 49 of Set 10 | saint-ambroise\n",
      "Processing Record 1 of Set 11 | gueret\n",
      "City not found. Skipping...\n",
      "Processing Record 2 of Set 11 | anstruther\n",
      "Processing Record 3 of Set 11 | necochea\n",
      "Processing Record 4 of Set 11 | lata\n",
      "Processing Record 5 of Set 11 | amazar\n",
      "Processing Record 6 of Set 11 | whithorn\n",
      "Processing Record 7 of Set 11 | ambon\n",
      "Processing Record 8 of Set 11 | winneba\n",
      "Processing Record 9 of Set 11 | kavaratti\n",
      "Processing Record 10 of Set 11 | marathon\n",
      "Processing Record 11 of Set 11 | pirmasens\n",
      "Processing Record 12 of Set 11 | houma\n",
      "Processing Record 13 of Set 11 | usinsk\n",
      "Processing Record 14 of Set 11 | herat\n",
      "Processing Record 15 of Set 11 | dukat\n",
      "Processing Record 16 of Set 11 | umea\n",
      "Processing Record 17 of Set 11 | mbandaka\n",
      "Processing Record 18 of Set 11 | nador\n",
      "Processing Record 19 of Set 11 | hofn\n",
      "Processing Record 20 of Set 11 | rabo de peixe\n",
      "City not found. Skipping...\n",
      "City not found. Skipping...\n",
      "Processing Record 21 of Set 11 | kungurtug\n",
      "Processing Record 22 of Set 11 | niono\n",
      "Processing Record 23 of Set 11 | pathein\n",
      "Processing Record 24 of Set 11 | oltedal\n",
      "Processing Record 25 of Set 11 | jodhpur\n",
      "Processing Record 26 of Set 11 | minab\n",
      "Processing Record 27 of Set 11 | pacific grove\n",
      "Processing Record 28 of Set 11 | ati\n",
      "Processing Record 29 of Set 11 | chifeng\n",
      "Processing Record 30 of Set 11 | ostrovnoy\n",
      "Processing Record 31 of Set 11 | tateyama\n",
      "City not found. Skipping...\n",
      "Processing Record 32 of Set 11 | xichang\n",
      "Processing Record 33 of Set 11 | san isidro\n",
      "Processing Record 34 of Set 11 | kediri\n",
      "City not found. Skipping...\n",
      "Processing Record 35 of Set 11 | benito juarez\n",
      "Processing Record 36 of Set 11 | shache\n",
      "City not found. Skipping...\n",
      "Processing Record 37 of Set 11 | sartana\n",
      "Processing Record 38 of Set 11 | bathsheba\n",
      "Processing Record 39 of Set 11 | botou\n",
      "Processing Record 40 of Set 11 | parintins\n",
      "Processing Record 41 of Set 11 | pamanukan\n",
      "Processing Record 42 of Set 11 | cuamba\n",
      "Processing Record 43 of Set 11 | moctezuma\n",
      "Processing Record 44 of Set 11 | khasan\n",
      "City not found. Skipping...\n",
      "Processing Record 45 of Set 11 | moses lake\n",
      "Processing Record 46 of Set 11 | januaria\n",
      "City not found. Skipping...\n"
     ]
    }
   ],
   "source": [
    "#Create Lists for Data\n",
    "city_list = []\n",
    "lat = []\n",
    "lng = []\n",
    "max_temp = []\n",
    "humidity = []\n",
    "cloudiness = []\n",
    "wind_speed = []\n",
    "country = []\n",
    "date = []\n",
    "\n",
    "#Setup count\n",
    "count = 0\n",
    "set_count = 1\n",
    "\n",
    "#loop to create dataframe columns\n",
    "for city in cities:\n",
    "    try:\n",
    "        response = requests.get(query_url + city).json()\n",
    "        lat.append(response['coord']['lat'])\n",
    "        lng.append(response['coord']['lon'])\n",
    "        max_temp.append(response['main']['temp_max'])\n",
    "        humidity.append(response['main']['humidity'])\n",
    "        cloudiness.append(response['clouds']['all'])\n",
    "        wind_speed.append(response['wind']['speed'])\n",
    "        country.append(response['sys']['country'])\n",
    "        date.append(response['dt'])\n",
    "        if count > 48:\n",
    "            count = 1\n",
    "            set_count += 1\n",
    "            city_list.append(city)\n",
    "        else:\n",
    "            count += 1\n",
    "            city_list.append(city)\n",
    "        print(f\"Processing Record {count} of Set {set_count} | {city}\")\n",
    "    except:\n",
    "        print(f\"City not found. Skipping...\")"
   ]
  },
  {
   "cell_type": "markdown",
   "metadata": {},
   "source": [
    "### Convert Raw Data to DataFrame\n",
    "* Export the city data into a .csv.\n",
    "* Display the DataFrame"
   ]
  },
  {
   "cell_type": "code",
   "execution_count": 5,
   "metadata": {},
   "outputs": [
    {
     "data": {
      "text/html": [
       "<div>\n",
       "<style scoped>\n",
       "    .dataframe tbody tr th:only-of-type {\n",
       "        vertical-align: middle;\n",
       "    }\n",
       "\n",
       "    .dataframe tbody tr th {\n",
       "        vertical-align: top;\n",
       "    }\n",
       "\n",
       "    .dataframe thead th {\n",
       "        text-align: right;\n",
       "    }\n",
       "</style>\n",
       "<table border=\"1\" class=\"dataframe\">\n",
       "  <thead>\n",
       "    <tr style=\"text-align: right;\">\n",
       "      <th></th>\n",
       "      <th>City</th>\n",
       "      <th>Latitude</th>\n",
       "      <th>Longitute</th>\n",
       "      <th>Max Temp.</th>\n",
       "      <th>Humidity</th>\n",
       "      <th>Cloudiness</th>\n",
       "      <th>Wind Speed</th>\n",
       "      <th>Country</th>\n",
       "      <th>Date</th>\n",
       "    </tr>\n",
       "  </thead>\n",
       "  <tbody>\n",
       "    <tr>\n",
       "      <th>0</th>\n",
       "      <td>avarua</td>\n",
       "      <td>-21.2078</td>\n",
       "      <td>-159.7750</td>\n",
       "      <td>84.20</td>\n",
       "      <td>70</td>\n",
       "      <td>20</td>\n",
       "      <td>11.50</td>\n",
       "      <td>CK</td>\n",
       "      <td>1612669768</td>\n",
       "    </tr>\n",
       "    <tr>\n",
       "      <th>1</th>\n",
       "      <td>faanui</td>\n",
       "      <td>-16.4833</td>\n",
       "      <td>-151.7500</td>\n",
       "      <td>82.71</td>\n",
       "      <td>67</td>\n",
       "      <td>1</td>\n",
       "      <td>8.75</td>\n",
       "      <td>PF</td>\n",
       "      <td>1612669930</td>\n",
       "    </tr>\n",
       "    <tr>\n",
       "      <th>2</th>\n",
       "      <td>qaanaaq</td>\n",
       "      <td>77.4840</td>\n",
       "      <td>-69.3632</td>\n",
       "      <td>12.47</td>\n",
       "      <td>91</td>\n",
       "      <td>100</td>\n",
       "      <td>5.66</td>\n",
       "      <td>GL</td>\n",
       "      <td>1612669943</td>\n",
       "    </tr>\n",
       "    <tr>\n",
       "      <th>3</th>\n",
       "      <td>aswan</td>\n",
       "      <td>24.0934</td>\n",
       "      <td>32.9070</td>\n",
       "      <td>55.00</td>\n",
       "      <td>66</td>\n",
       "      <td>0</td>\n",
       "      <td>5.68</td>\n",
       "      <td>EG</td>\n",
       "      <td>1612670511</td>\n",
       "    </tr>\n",
       "    <tr>\n",
       "      <th>4</th>\n",
       "      <td>poum</td>\n",
       "      <td>-20.2333</td>\n",
       "      <td>164.0167</td>\n",
       "      <td>80.89</td>\n",
       "      <td>67</td>\n",
       "      <td>0</td>\n",
       "      <td>6.96</td>\n",
       "      <td>NC</td>\n",
       "      <td>1612669974</td>\n",
       "    </tr>\n",
       "  </tbody>\n",
       "</table>\n",
       "</div>"
      ],
      "text/plain": [
       "      City  Latitude  Longitute  Max Temp.  Humidity  Cloudiness  Wind Speed  \\\n",
       "0   avarua  -21.2078  -159.7750      84.20        70          20       11.50   \n",
       "1   faanui  -16.4833  -151.7500      82.71        67           1        8.75   \n",
       "2  qaanaaq   77.4840   -69.3632      12.47        91         100        5.66   \n",
       "3    aswan   24.0934    32.9070      55.00        66           0        5.68   \n",
       "4     poum  -20.2333   164.0167      80.89        67           0        6.96   \n",
       "\n",
       "  Country        Date  \n",
       "0      CK  1612669768  \n",
       "1      PF  1612669930  \n",
       "2      GL  1612669943  \n",
       "3      EG  1612670511  \n",
       "4      NC  1612669974  "
      ]
     },
     "execution_count": 5,
     "metadata": {},
     "output_type": "execute_result"
    }
   ],
   "source": [
    "#Create dictionary for DataFrame\n",
    "weather_dict = {\"City\": city_list,\n",
    "               \"Latitude\": lat,\n",
    "               \"Longitute\": lng,\n",
    "               \"Max Temp.\": max_temp,\n",
    "               \"Humidity\": humidity,\n",
    "               \"Cloudiness\": cloudiness,\n",
    "               \"Wind Speed\": wind_speed,\n",
    "               \"Country\": country,\n",
    "               \"Date\": date}\n",
    "\n",
    "#Create DataFrame\n",
    "weather_df = pd.DataFrame(weather_dict)\n",
    "\n",
    "weather_df.head()"
   ]
  },
  {
   "cell_type": "code",
   "execution_count": 7,
   "metadata": {},
   "outputs": [],
   "source": [
    "#Export to csv file\n",
    "weather_df.to_csv(\"weather_df.csv\")"
   ]
  },
  {
   "cell_type": "markdown",
   "metadata": {},
   "source": [
    "## Inspect the data and remove the cities where the humidity > 100%.\n",
    "----\n",
    "Skip this step if there are no cities that have humidity > 100%. "
   ]
  },
  {
   "cell_type": "code",
   "execution_count": 13,
   "metadata": {},
   "outputs": [
    {
     "data": {
      "text/plain": [
       "count    536.000000\n",
       "mean      74.236940\n",
       "std       19.137813\n",
       "min       19.000000\n",
       "25%       63.000000\n",
       "50%       79.000000\n",
       "75%       88.000000\n",
       "max      100.000000\n",
       "Name: Humidity, dtype: float64"
      ]
     },
     "execution_count": 13,
     "metadata": {},
     "output_type": "execute_result"
    }
   ],
   "source": [
    "#  Get the indices of cities that have humidity over 100%.\n",
    "test_data = weather_df[\"Humidity\"].describe(include = \"all\")\n",
    "test_data\n",
    "\n",
    "#No reason to go on since there are no cities that have humidity > 100%"
   ]
  },
  {
   "cell_type": "markdown",
   "metadata": {},
   "source": [
    "## Plotting the Data\n",
    "* Use proper labeling of the plots using plot titles (including date of analysis) and axes labels.\n",
    "* Save the plotted figures as .pngs."
   ]
  },
  {
   "cell_type": "markdown",
   "metadata": {},
   "source": [
    "## Latitude vs. Temperature Plot"
   ]
  },
  {
   "cell_type": "code",
   "execution_count": 35,
   "metadata": {
    "scrolled": true
   },
   "outputs": [
    {
     "data": {
      "image/png": "[encoded data removed]",
      "text/plain": [
       "<Figure size 432x288 with 1 Axes>"
      ]
     },
     "metadata": {
      "needs_background": "light"
     },
     "output_type": "display_data"
    }
   ],
   "source": [
    "plt.scatter(weather_df[\"Latitude\"], weather_df[\"Max Temp.\"], edgecolors=\"black\", facecolors=\"skyblue\")\n",
    "plt.title(\"City Latitude vs. Max. Temperature (2/6/21)\")\n",
    "plt.xlabel(\"Latitude\")\n",
    "plt.ylabel(\"Max Temperature (F)\")\n",
    "plt.grid()\n",
    "plt.savefig(\"Figures/latitude_temperature_plot.png\")"
   ]
  },
  {
   "cell_type": "markdown",
   "metadata": {},
   "source": [
    "## Latitude vs. Humidity Plot"
   ]
  },
  {
   "cell_type": "code",
   "execution_count": 36,
   "metadata": {},
   "outputs": [
    {
     "data": {
      "image/png": "[encoded data removed]",
      "text/plain": [
       "<Figure size 432x288 with 1 Axes>"
      ]
     },
     "metadata": {
      "needs_background": "light"
     },
     "output_type": "display_data"
    }
   ],
   "source": [
    "plt.scatter(weather_df[\"Latitude\"], weather_df[\"Humidity\"], edgecolors=\"black\", facecolors=\"skyblue\")\n",
    "plt.title(\"City Latitude vs. Humidity (2/6/21)\")\n",
    "plt.xlabel(\"Latitude\")\n",
    "plt.ylabel(\"Humidity (%)\")\n",
    "plt.grid()\n",
    "plt.savefig(\"Figures/latitude_humidity_plot.png\")"
   ]
  },
  {
   "cell_type": "markdown",
   "metadata": {},
   "source": [
    "## Latitude vs. Cloudiness Plot"
   ]
  },
  {
   "cell_type": "code",
   "execution_count": 45,
   "metadata": {},
   "outputs": [
    {
     "data": {
      "image/png": "[encoded data removed]",
      "text/plain": [
       "<Figure size 432x288 with 1 Axes>"
      ]
     },
     "metadata": {
      "needs_background": "light"
     },
     "output_type": "display_data"
    }
   ],
   "source": [
    "plt.scatter(weather_df[\"Latitude\"], weather_df[\"Cloudiness\"], edgecolors=\"black\", facecolor=\"skyblue\")\n",
    "plt.title(\"City Latitude vs. Cloudiness (2/6/21)\")\n",
    "plt.xlabel(\"Latitude\")\n",
    "plt.ylabel(\"Cloudiness (%)\")\n",
    "plt.grid()\n",
    "plt.savefig(\"Figures/latitude_cloudiness_plot.png\")"
   ]
  },
  {
   "cell_type": "markdown",
   "metadata": {},
   "source": [
    "## Latitude vs. Wind Speed Plot"
   ]
  },
  {
   "cell_type": "code",
   "execution_count": 51,
   "metadata": {},
   "outputs": [
    {
     "data": {
      "image/png": "[encoded data removed]",
      "text/plain": [
       "<Figure size 432x288 with 1 Axes>"
      ]
     },
     "metadata": {
      "needs_background": "light"
     },
     "output_type": "display_data"
    }
   ],
   "source": [
    "plt.scatter(weather_df[\"Latitude\"], weather_df[\"Wind Speed\"], edgecolors=\"black\", facecolor=\"skyblue\")\n",
    "plt.title(\"City Latitude vs. Wind Speed (2/6/21)\")\n",
    "plt.xlabel(\"Latitude\")\n",
    "plt.ylabel(\"Wind Speed (mph)\")\n",
    "plt.grid()\n",
    "plt.savefig(\"Figures/latitude_windspeed_plot.png\")"
   ]
  },
  {
   "cell_type": "markdown",
   "metadata": {},
   "source": [
    "## Linear Regression"
   ]
  },
  {
   "cell_type": "code",
   "execution_count": 53,
   "metadata": {},
   "outputs": [],
   "source": [
    "northern_hemisphere = weather_df.loc[weather_df[\"Latitude\"] >= 0]\n",
    "southern_hemisphere = weather_df.loc[weather_df[\"Latitude\"] < 0]"
   ]
  },
  {
   "cell_type": "markdown",
   "metadata": {},
   "source": [
    "####  Northern Hemisphere - Max Temp vs. Latitude Linear Regression"
   ]
  },
  {
   "cell_type": "code",
   "execution_count": 89,
   "metadata": {},
   "outputs": [
    {
     "name": "stdout",
     "output_type": "stream",
     "text": [
      "The r value is: 0.7354618696790772\n"
     ]
    },
    {
     "data": {
      "image/png": "[encoded data removed]",
      "text/plain": [
       "<Figure size 432x288 with 1 Axes>"
      ]
     },
     "metadata": {
      "needs_background": "light"
     },
     "output_type": "display_data"
    }
   ],
   "source": [
    "x_values = northern_hemisphere[\"Latitude\"]\n",
    "y_values = northern_hemisphere[\"Max Temp.\"]\n",
    "\n",
    "(slope, intercept, rvalue, pvalue, stderr) = linregress(x_values, y_values)\n",
    "regress_values = x_values * slope + intercept\n",
    "line_eq = \"y = \" + str(round(slope, 2)) + \"x + \" + str(round(intercept, 2))\n",
    "\n",
    "plt.scatter(x_values, y_values, edgecolor=\"black\", facecolor=\"skyblue\")\n",
    "plt.plot(x_values, regress_values, \"r-\")\n",
    "plt.annotate(line_eq, (0,0), fontsize=15, color=\"red\")\n",
    "plt.xlabel(\"Latitude\")\n",
    "plt.ylabel(\"Max Temp.\")\n",
    "print(f\"The r value is: {rvalue**2}\")\n",
    "plt.savefig(\"Figures/north_maxtemp_latitude_lr.png\")"
   ]
  },
  {
   "cell_type": "markdown",
   "metadata": {},
   "source": [
    "####  Southern Hemisphere - Max Temp vs. Latitude Linear Regression"
   ]
  },
  {
   "cell_type": "code",
   "execution_count": null,
   "metadata": {},
   "outputs": [],
   "source": []
  },
  {
   "cell_type": "markdown",
   "metadata": {},
   "source": [
    "####  Northern Hemisphere - Humidity (%) vs. Latitude Linear Regression"
   ]
  },
  {
   "cell_type": "code",
   "execution_count": null,
   "metadata": {},
   "outputs": [],
   "source": []
  },
  {
   "cell_type": "markdown",
   "metadata": {},
   "source": [
    "####  Southern Hemisphere - Humidity (%) vs. Latitude Linear Regression"
   ]
  },
  {
   "cell_type": "code",
   "execution_count": null,
   "metadata": {},
   "outputs": [],
   "source": []
  },
  {
   "cell_type": "markdown",
   "metadata": {},
   "source": [
    "####  Northern Hemisphere - Cloudiness (%) vs. Latitude Linear Regression"
   ]
  },
  {
   "cell_type": "code",
   "execution_count": null,
   "metadata": {},
   "outputs": [],
   "source": []
  },
  {
   "cell_type": "markdown",
   "metadata": {},
   "source": [
    "####  Southern Hemisphere - Cloudiness (%) vs. Latitude Linear Regression"
   ]
  },
  {
   "cell_type": "code",
   "execution_count": null,
   "metadata": {},
   "outputs": [],
   "source": []
  },
  {
   "cell_type": "markdown",
   "metadata": {},
   "source": [
    "####  Northern Hemisphere - Wind Speed (mph) vs. Latitude Linear Regression"
   ]
  },
  {
   "cell_type": "code",
   "execution_count": null,
   "metadata": {},
   "outputs": [],
   "source": []
  },
  {
   "cell_type": "markdown",
   "metadata": {},
   "source": [
    "####  Southern Hemisphere - Wind Speed (mph) vs. Latitude Linear Regression"
   ]
  },
  {
   "cell_type": "code",
   "execution_count": null,
   "metadata": {},
   "outputs": [],
   "source": []
  },
  {
   "cell_type": "code",
   "execution_count": null,
   "metadata": {},
   "outputs": [],
   "source": []
  }
 ],
 "metadata": {
  "anaconda-cloud": {},
  "kernel_info": {
   "name": "python3"
  },
  "kernelspec": {
   "display_name": "Python 3",
   "language": "python",
   "name": "python3"
  },
  "language_info": {
   "codemirror_mode": {
    "name": "ipython",
    "version": 3
   },
   "file_extension": ".py",
   "mimetype": "text/x-python",
   "name": "python",
   "nbconvert_exporter": "python",
   "pygments_lexer": "ipython3",
   "version": "3.6.10"
  },
  "latex_envs": {
   "LaTeX_envs_menu_present": true,
   "autoclose": false,
   "autocomplete": true,
   "bibliofile": "biblio.bib",
   "cite_by": "apalike",
   "current_citInitial": 1,
   "eqLabelWithNumbers": true,
   "eqNumInitial": 1,
   "hotkeys": {
    "equation": "Ctrl-E",
    "itemize": "Ctrl-I"
   },
   "labels_anchors": false,
   "latex_user_defs": false,
   "report_style_numbering": false,
   "user_envs_cfg": false
  },
  "nteract": {
   "version": "0.12.3"
  }
 },
 "nbformat": 4,
 "nbformat_minor": 2
}
